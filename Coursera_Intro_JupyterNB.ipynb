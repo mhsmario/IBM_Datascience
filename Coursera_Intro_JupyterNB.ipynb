{
 "cells": [
  {
   "cell_type": "markdown",
   "id": "08ae07d4",
   "metadata": {},
   "source": [
    "# \"My Jupyter Notebook on IBM Watson Studio\""
   ]
  },
  {
   "cell_type": "markdown",
   "id": "359c2a9b",
   "metadata": {},
   "source": [
    "<b> Name: Mario Saraiva </b>\n",
    "<br><b> Desired Occupation: Data Scientist</b>"
   ]
  },
  {
   "cell_type": "markdown",
   "id": "31d2dbab",
   "metadata": {},
   "source": [
    "<i>\"I am interested in data science because its interesting and cool.\" </i>"
   ]
  },
  {
   "cell_type": "markdown",
   "id": "ad36fe38",
   "metadata": {},
   "source": [
    "#### The code below will print \"Hello World\""
   ]
  },
  {
   "cell_type": "code",
   "execution_count": 3,
   "id": "62cb3365",
   "metadata": {},
   "outputs": [
    {
     "name": "stdout",
     "output_type": "stream",
     "text": [
      "Hello World\n"
     ]
    }
   ],
   "source": [
    "print('Hello World')"
   ]
  },
  {
   "cell_type": "markdown",
   "id": "ffc2d54c",
   "metadata": {},
   "source": [
    "Cell 6 (rendered as Markdown): Using Markdown or HTML, \n",
    "    this cell must include at least 3 of the following: \n",
    "        horizontal rule, bulleted list, \n",
    "        numbered list, \n",
    "        tables, \n",
    "        hyperlinks, images, code/syntax highlighting, blocked quotes, strikethrough.\n",
    "\n",
    "-----------------\n",
    "<li>This is cell number 6 </li>\n",
    "<li> <a href=\"www.google.com\">This is a link to google</a> </li>\n",
    " \n",
    "`This is a blocked quote...`"
   ]
  }
 ],
 "metadata": {
  "kernelspec": {
   "display_name": "Python 3 (ipykernel)",
   "language": "python",
   "name": "python3"
  },
  "language_info": {
   "codemirror_mode": {
    "name": "ipython",
    "version": 3
   },
   "file_extension": ".py",
   "mimetype": "text/x-python",
   "name": "python",
   "nbconvert_exporter": "python",
   "pygments_lexer": "ipython3",
   "version": "3.10.4"
  }
 },
 "nbformat": 4,
 "nbformat_minor": 5
}
